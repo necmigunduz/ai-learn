{
  "nbformat": 4,
  "nbformat_minor": 0,
  "metadata": {
    "colab": {
      "provenance": [],
      "authorship_tag": "ABX9TyPsXRE7hO3P/krIVkJkcHpv",
      "include_colab_link": true
    },
    "kernelspec": {
      "name": "python3",
      "display_name": "Python 3"
    },
    "language_info": {
      "name": "python"
    }
  },
  "cells": [
    {
      "cell_type": "markdown",
      "metadata": {
        "id": "view-in-github",
        "colab_type": "text"
      },
      "source": [
        "<a href=\"https://colab.research.google.com/github/necmigunduz/ai-learn/blob/main/Learn_AI.ipynb\" target=\"_parent\"><img src=\"https://colab.research.google.com/assets/colab-badge.svg\" alt=\"Open In Colab\"/></a>"
      ]
    },
    {
      "cell_type": "code",
      "execution_count": 1,
      "metadata": {
        "id": "qENRjU78g1ek"
      },
      "outputs": [],
      "source": [
        "import numpy as np"
      ]
    },
    {
      "cell_type": "code",
      "source": [
        "a = np.array([1,2,3])\n",
        "b=np.array([[1,2],[3,4]])"
      ],
      "metadata": {
        "id": "d-FPRckFg_r2"
      },
      "execution_count": 5,
      "outputs": []
    },
    {
      "cell_type": "code",
      "source": [
        "np.zeros((3,8)), np.ones((2,5)), np.eye(3), np.arange(2,10,0.1), np.linspace(1,20,4)"
      ],
      "metadata": {
        "colab": {
          "base_uri": "https://localhost:8080/"
        },
        "id": "Sf26Gh55hiqd",
        "outputId": "e57202e9-b5f2-4b08-ce15-4d11ab1e5b7e"
      },
      "execution_count": 26,
      "outputs": [
        {
          "output_type": "execute_result",
          "data": {
            "text/plain": [
              "(array([[0., 0., 0., 0., 0., 0., 0., 0.],\n",
              "        [0., 0., 0., 0., 0., 0., 0., 0.],\n",
              "        [0., 0., 0., 0., 0., 0., 0., 0.]]),\n",
              " array([[1., 1., 1., 1., 1.],\n",
              "        [1., 1., 1., 1., 1.]]),\n",
              " array([[1., 0., 0.],\n",
              "        [0., 1., 0.],\n",
              "        [0., 0., 1.]]),\n",
              " array([2. , 2.1, 2.2, 2.3, 2.4, 2.5, 2.6, 2.7, 2.8, 2.9, 3. , 3.1, 3.2,\n",
              "        3.3, 3.4, 3.5, 3.6, 3.7, 3.8, 3.9, 4. , 4.1, 4.2, 4.3, 4.4, 4.5,\n",
              "        4.6, 4.7, 4.8, 4.9, 5. , 5.1, 5.2, 5.3, 5.4, 5.5, 5.6, 5.7, 5.8,\n",
              "        5.9, 6. , 6.1, 6.2, 6.3, 6.4, 6.5, 6.6, 6.7, 6.8, 6.9, 7. , 7.1,\n",
              "        7.2, 7.3, 7.4, 7.5, 7.6, 7.7, 7.8, 7.9, 8. , 8.1, 8.2, 8.3, 8.4,\n",
              "        8.5, 8.6, 8.7, 8.8, 8.9, 9. , 9.1, 9.2, 9.3, 9.4, 9.5, 9.6, 9.7,\n",
              "        9.8, 9.9]),\n",
              " array([ 1.        ,  7.33333333, 13.66666667, 20.        ]))"
            ]
          },
          "metadata": {},
          "execution_count": 26
        }
      ]
    },
    {
      "cell_type": "code",
      "source": [
        "arr=np.array([[1,2,3],[4,5,6]])"
      ],
      "metadata": {
        "id": "76hZCaFGkCZv"
      },
      "execution_count": 27,
      "outputs": []
    },
    {
      "cell_type": "code",
      "source": [],
      "metadata": {
        "id": "Mls1bS1ChjIU"
      },
      "execution_count": null,
      "outputs": []
    },
    {
      "cell_type": "code",
      "source": [
        "print(arr[0,1], arr[:,2])"
      ],
      "metadata": {
        "colab": {
          "base_uri": "https://localhost:8080/"
        },
        "id": "tqJx8C7KkJ2l",
        "outputId": "f97dd29d-3cc4-419c-8aa7-1c06cb01675d"
      },
      "execution_count": 36,
      "outputs": [
        {
          "output_type": "stream",
          "name": "stdout",
          "text": [
            "2 [3 6]\n"
          ]
        }
      ]
    },
    {
      "cell_type": "code",
      "source": [
        "### Array Math\n",
        "a = np.array([1,2,3])\n",
        "b = np.array([4,5,6])"
      ],
      "metadata": {
        "id": "QaqsOCbjlJsu"
      },
      "execution_count": 41,
      "outputs": []
    },
    {
      "cell_type": "code",
      "source": [
        "print(f'a*b =', a*b)\n",
        "print(f'a+b =', a+b)\n",
        "print(f'a-b =', a-b)\n",
        "print(f'a/b =', a/b)\n",
        "print(f'a.b =', a.dot(b))"
      ],
      "metadata": {
        "colab": {
          "base_uri": "https://localhost:8080/"
        },
        "id": "CuH1In9ykUDt",
        "outputId": "b0414916-a9a5-4481-e850-c963c8c01375"
      },
      "execution_count": 50,
      "outputs": [
        {
          "output_type": "stream",
          "name": "stdout",
          "text": [
            "a*b = [ 4 10 18]\n",
            "a+b = [5 7 9]\n",
            "a-b = [-3 -3 -3]\n",
            "a/b = [0.25 0.4  0.5 ]\n",
            "a.b = 32\n"
          ]
        }
      ]
    },
    {
      "cell_type": "code",
      "source": [
        "## Transpose and Reshape matrix\n",
        "x = np.array([[1,2],[3,4],[5,6]])"
      ],
      "metadata": {
        "id": "qEzNSTsOlgaH"
      },
      "execution_count": 51,
      "outputs": []
    },
    {
      "cell_type": "code",
      "source": [
        "x_reshaped = x.reshape(3,2)\n",
        "x_transposed = x.T\n",
        "print(f'x Reshaped', x_reshaped)\n",
        "print(f'x Transposed', x_transposed)"
      ],
      "metadata": {
        "colab": {
          "base_uri": "https://localhost:8080/"
        },
        "id": "iIseduuEmNUm",
        "outputId": "ab49f365-7d81-4da3-9e20-29c028aff87c"
      },
      "execution_count": 65,
      "outputs": [
        {
          "output_type": "stream",
          "name": "stdout",
          "text": [
            "x Reshaped [[1 2]\n",
            " [3 4]\n",
            " [5 6]]\n",
            "x Transposed [[1 3 5]\n",
            " [2 4 6]]\n"
          ]
        }
      ]
    },
    {
      "cell_type": "code",
      "source": [
        "random_array = np.random.randint(1,101,size=(1,100))"
      ],
      "metadata": {
        "id": "7OyL6a3Im94n"
      },
      "execution_count": 83,
      "outputs": []
    },
    {
      "cell_type": "code",
      "source": [
        "random_array[0,26]"
      ],
      "metadata": {
        "colab": {
          "base_uri": "https://localhost:8080/"
        },
        "id": "3G-jFjD0nLxm",
        "outputId": "8a57e233-69cb-49cd-8149-d5c6fbf253d8"
      },
      "execution_count": 89,
      "outputs": [
        {
          "output_type": "execute_result",
          "data": {
            "text/plain": [
              "np.int64(51)"
            ]
          },
          "metadata": {},
          "execution_count": 89
        }
      ]
    },
    {
      "cell_type": "code",
      "source": [
        "random_array.reshape(10,10)"
      ],
      "metadata": {
        "colab": {
          "base_uri": "https://localhost:8080/"
        },
        "id": "5Mg_1ifOnlUv",
        "outputId": "a565c78f-2a8b-449e-fb24-9571e7504285"
      },
      "execution_count": 91,
      "outputs": [
        {
          "output_type": "execute_result",
          "data": {
            "text/plain": [
              "array([[43, 63, 92,  6, 17, 64, 90, 87, 20, 19],\n",
              "       [24, 89, 84, 43, 58, 37, 77, 58, 98, 98],\n",
              "       [81, 56, 86, 51,  8, 65, 51, 68, 60, 29],\n",
              "       [31, 91, 29, 78,  4, 57, 79,  9, 74, 22],\n",
              "       [40, 57, 32, 60, 86, 34, 87, 94, 38, 56],\n",
              "       [46, 55,  5, 80, 16, 79, 23, 54, 80, 93],\n",
              "       [73, 76, 79, 48, 30, 59, 60, 53, 82, 35],\n",
              "       [34, 19, 32, 41, 39, 92, 81, 83, 35, 29],\n",
              "       [96, 21, 77, 79,  6, 21, 44, 62, 38, 98],\n",
              "       [ 8,  4,  3, 15, 94, 80, 17, 16, 81, 27]])"
            ]
          },
          "metadata": {},
          "execution_count": 91
        }
      ]
    },
    {
      "cell_type": "code",
      "source": [
        "np.mean(random_array, axis=0)"
      ],
      "metadata": {
        "colab": {
          "base_uri": "https://localhost:8080/"
        },
        "id": "lwDLQL6Kn-fe",
        "outputId": "33bd299c-37b6-4d2f-a9b4-acf4b1e65533"
      },
      "execution_count": 99,
      "outputs": [
        {
          "output_type": "execute_result",
          "data": {
            "text/plain": [
              "array([43., 63., 92.,  6., 17., 64., 90., 87., 20., 19., 24., 89., 84.,\n",
              "       43., 58., 37., 77., 58., 98., 98., 81., 56., 86., 51.,  8., 65.,\n",
              "       51., 68., 60., 29., 31., 91., 29., 78.,  4., 57., 79.,  9., 74.,\n",
              "       22., 40., 57., 32., 60., 86., 34., 87., 94., 38., 56., 46., 55.,\n",
              "        5., 80., 16., 79., 23., 54., 80., 93., 73., 76., 79., 48., 30.,\n",
              "       59., 60., 53., 82., 35., 34., 19., 32., 41., 39., 92., 81., 83.,\n",
              "       35., 29., 96., 21., 77., 79.,  6., 21., 44., 62., 38., 98.,  8.,\n",
              "        4.,  3., 15., 94., 80., 17., 16., 81., 27.])"
            ]
          },
          "metadata": {},
          "execution_count": 99
        }
      ]
    }
  ]
}